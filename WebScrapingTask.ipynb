{
  "nbformat": 4,
  "nbformat_minor": 0,
  "metadata": {
    "colab": {
      "provenance": []
    },
    "kernelspec": {
      "name": "python3",
      "display_name": "Python 3"
    },
    "language_info": {
      "name": "python"
    }
  },
  "cells": [
    {
      "cell_type": "markdown",
      "source": [
        "#Webscraping Task"
      ],
      "metadata": {
        "id": "Du3ZyK9jXJ1P"
      }
    },
    {
      "cell_type": "markdown",
      "source": [
        "## Introduction\n",
        "We first start by importing the nessecary libraries\n",
        "\n"
      ],
      "metadata": {
        "id": "H86GHoyAXOx2"
      }
    },
    {
      "cell_type": "code",
      "execution_count": 1,
      "metadata": {
        "id": "RfKlPt0WXBiV"
      },
      "outputs": [],
      "source": [
        "import csv\n",
        "import http\n",
        "import pandas as pd\n",
        "import json\n",
        "import requests\n",
        "from bs4 import BeautifulSoup"
      ]
    },
    {
      "cell_type": "code",
      "source": [
        "response = requests.get(\"https://baraasalout.github.io/test.html\")"
      ],
      "metadata": {
        "id": "wx-7wIBRXJYg"
      },
      "execution_count": 2,
      "outputs": []
    },
    {
      "cell_type": "code",
      "source": [
        "print(response.text)"
      ],
      "metadata": {
        "id": "TZL5osLTZFG3",
        "colab": {
          "base_uri": "https://localhost:8080/"
        },
        "outputId": "7f8bd9c0-4c66-4eff-f992-8357c95d15ab"
      },
      "execution_count": 3,
      "outputs": [
        {
          "output_type": "stream",
          "name": "stdout",
          "text": [
            "<!DOCTYPE html>\n",
            "\n",
            "<html>\n",
            "\n",
            "    <head>\n",
            "        <title>Web Scraping Task with Form</title>\n",
            "\n",
            "         <style>\n",
            "        body {\n",
            "            font-family: Arial, sans-serif;\n",
            "            margin: 20px;\n",
            "            background-color: #f5f5f5;\n",
            "        }\n",
            "\n",
            "        h1 {\n",
            "            color: darkred;\n",
            "            text-align: center;\n",
            "        }\n",
            "\n",
            "        h2 {\n",
            "            color: darkblue;\n",
            "            font-style: italic;\n",
            "        }\n",
            "\n",
            "        p {\n",
            "            color: #555;\n",
            "            font-size: 14px;\n",
            "        }\n",
            "\n",
            "        img {\n",
            "            width: 250px;\n",
            "            height: auto;\n",
            "            border-radius: 10px;\n",
            "        }\n",
            "\n",
            "        table {\n",
            "            width: 100%;\n",
            "            border-collapse: collapse;\n",
            "            margin: 20px 0;\n",
            "        }\n",
            "\n",
            "        table, th, td {\n",
            "            border: 1px solid #ccc;\n",
            "        }\n",
            "\n",
            "        th {\n",
            "            background-color: #333;\n",
            "            color: white;\n",
            "            padding: 10px;\n",
            "        }\n",
            "\n",
            "        td {\n",
            "            text-align: center;\n",
            "            padding: 10px;\n",
            "        }\n",
            "\n",
            "        .btn {\n",
            "            background-color: darkgreen;\n",
            "            color: white;\n",
            "            border: none;\n",
            "            padding: 10px 20px;\n",
            "            cursor: pointer;\n",
            "            text-transform: uppercase;\n",
            "            font-weight: bold;\n",
            "        }\n",
            "\n",
            "        .btn:hover {\n",
            "            background-color: green;\n",
            "        }\n",
            "\n",
            "        ul {\n",
            "            list-style-type: square;\n",
            "        }\n",
            "\n",
            "        iframe {\n",
            "            display: block;\n",
            "            margin: 20px auto;\n",
            "            border: none;\n",
            "        }\n",
            "\n",
            "        .footer {\n",
            "            background-color: #333;\n",
            "            color: white;\n",
            "            text-align: center;\n",
            "            padding: 10px 0;\n",
            "            margin-top: 30px;\n",
            "        }\n",
            "\n",
            "        .highlight {\n",
            "            background-color: yellow;\n",
            "            font-weight: bold;\n",
            "        }\n",
            "\n",
            "        form {\n",
            "            margin: 20px 0;\n",
            "            background-color: #fff;\n",
            "            padding: 20px;\n",
            "            border: 1px solid #ccc;\n",
            "            border-radius: 5px;\n",
            "        }\n",
            "\n",
            "        form input, form select, form button {\n",
            "            display: block;\n",
            "            margin: 10px 0;\n",
            "            padding: 10px;\n",
            "            width: 100%;\n",
            "            max-width: 400px;\n",
            "            border: 1px solid #ccc;\n",
            "            border-radius: 5px;\n",
            "        }\n",
            "\n",
            "        .products {\n",
            "            display: flex;\n",
            "            flex-wrap: wrap;\n",
            "            justify-content: center;\n",
            "            gap: 20px;\n",
            "            margin-top: 30px;\n",
            "        }\n",
            "\n",
            "        .product-card {\n",
            "            width: 250px;\n",
            "            border: 1px solid #ddd;\n",
            "            border-radius: 8px;\n",
            "            background-color: #fff;\n",
            "            box-shadow: 0 4px 6px rgba(0, 0, 0, 0.1);\n",
            "            text-align: center;\n",
            "            overflow: hidden;\n",
            "            transition: transform 0.3s ease, box-shadow 0.3s ease;\n",
            "        }\n",
            "\n",
            "        .product-card:hover {\n",
            "            transform: translateY(-5px);\n",
            "            box-shadow: 0 8px 12px rgba(0, 0, 0, 0.2);\n",
            "        }\n",
            "\n",
            "        .product-card img {\n",
            "            width: 100%;\n",
            "            height: 150px;\n",
            "            object-fit: cover;\n",
            "        }\n",
            "\n",
            "        .product-card .name {\n",
            "            font-size: 18px;\n",
            "            font-weight: bold;\n",
            "            margin: 15px 0 5px;\n",
            "            color: #333;\n",
            "        }\n",
            "\n",
            "        .product-card .price {\n",
            "            font-size: 16px;\n",
            "            color: #28a745;\n",
            "            margin: 5px 0;\n",
            "        }\n",
            "\n",
            "        .product-card .colors {\n",
            "            font-size: 14px;\n",
            "            color: #666;\n",
            "            margin-bottom: 15px;\n",
            "        }\n",
            "\n",
            "        .product-card button {\n",
            "            background-color: #007bff;\n",
            "            color: white;\n",
            "            border: none;\n",
            "            padding: 10px 20px;\n",
            "            margin: 10px 0;\n",
            "            cursor: pointer;\n",
            "            border-radius: 5px;\n",
            "            font-size: 14px;\n",
            "            transition: background-color 0.3s ease;\n",
            "        }\n",
            "\n",
            "        .product-card button:hover {\n",
            "            background-color: #0056b3;\n",
            "        }\n",
            "    </style>\n",
            "    </head>\n",
            "\n",
            "    <body>\n",
            "        <h1>Web Scraping Practice</h1>\n",
            "        <p>Welcome to the web scraping task! Use your skills to extract the required data from this page.</p>\n",
            "\n",
            "        <h2>Available Products</h2>\n",
            "        <ul>\n",
            "            <li class=\"highlight\">Laptop</li>\n",
            "            <li>Smartphone</li>\n",
            "            <li>Tablet</li>\n",
            "            <li>Smartwatch</li>\n",
            "        </ul>\n",
            "\n",
            "        <h2>Product Table</h2>\n",
            "        <table>\n",
            "            <tr>\n",
            "                <th>Product</th>\n",
            "                <th>Price</th>\n",
            "                <th>In Stock</th>\n",
            "            </tr>\n",
            "            <tr>\n",
            "                <td>Laptop</td>\n",
            "                <td>$1000</td>\n",
            "                <td>Yes</td>\n",
            "            </tr>\n",
            "            <tr>\n",
            "                <td>Smartphone</td>\n",
            "                <td>$800</td>\n",
            "                <td>No</td>\n",
            "            </tr>\n",
            "            <tr>\n",
            "                <td>Tablet</td>\n",
            "                <td>$500</td>\n",
            "                <td>Yes</td>\n",
            "            </tr>\n",
            "        </table>\n",
            "\n",
            "        <h2>Watch This Video</h2>\n",
            "        <iframe width=\"560\" height=\"315\" src=\"https://www.youtube.com/watch?v=ujf9RNuBdCU\"></iframe>\n",
            "        \n",
            "        \n",
            "\n",
            "        \n",
            "        <h2>Contact Us</h2>\n",
            "        <form>\n",
            "            <label for=\"username\">Username:</label>\n",
            "            <input type=\"text\" id=\"username\" name=\"username\" placeholder=\"Enter your username\">\n",
            "\n",
            "            <label for=\"password\">Password:</label>\n",
            "            <input type=\"password\" id=\"password\" name=\"password\" placeholder=\"Enter your password\">\n",
            "\n",
            "            <label for=\"options\">Choose an option:</label>\n",
            "            <select id=\"options\" name=\"options\">\n",
            "                <option value=\"option1\">Option 1</option>\n",
            "                <option value=\"option2\">Option 2</option>\n",
            "                <option value=\"option3\">Option 3</option>\n",
            "            </select>\n",
            "\n",
            "            <label>\n",
            "                <input type=\"checkbox\" name=\"terms\"> I agree to the terms and conditions\n",
            "            </label>\n",
            "\n",
            "            <input type=\"submit\" value=\"Submit\">\n",
            "        </form>\n",
            "\n",
            "    <h2>Product Information</h2>\n",
            "    <div class=\"book-products\" style=\"display: flex; justify-content: space-around; margin-top: 20px;\">\n",
            "        <div style=\"text-align: center; width: 200px; border: 1px solid #ddd; padding: 10px; border-radius: 5px;\">\n",
            "            <img src=\"http://books.toscrape.com/media/cache/26/0c/260c6ae16bce31c8f8c95daddd9f4a1c.jpg\" alt=\"Sharp Objects\" style=\"width: 100%; height: auto; border-radius: 5px;\">\n",
            "            <p><strong>Sharp Objects</strong></p>\n",
            "            <p style=\"color: green;\">£47.82</p>\n",
            "            <p style=\"color: green;\">✔ In stock</p>\n",
            "            <button style=\"background-color: blue; color: white; border: none; padding: 10px 15px; border-radius: 5px; cursor: pointer;\">Add to basket</button>\n",
            "        </div>\n",
            "\n",
            "        <div style=\"text-align: center; width: 200px; border: 1px solid #ddd; padding: 10px; border-radius: 5px;\">\n",
            "            <img src=\"http://books.toscrape.com/media/cache/92/27/92274a95b7c251fea59a2b8a78275ab4.jpg\" alt=\"In a Dark, Dark Wood\" style=\"width: 100%; height: auto; border-radius: 5px;\">\n",
            "            <p><strong>In a Dark, Dark Wood</strong></p>\n",
            "            <p style=\"color: green;\">£19.63</p>\n",
            "            <p style=\"color: green;\">✔ In stock</p>\n",
            "            <button style=\"background-color: blue; color: white; border: none; padding: 10px 15px; border-radius: 5px; cursor: pointer;\">Add to basket</button>\n",
            "        </div>\n",
            "\n",
            "        <div style=\"text-align: center; width: 200px; border: 1px solid #ddd; padding: 10px; border-radius: 5px;\">\n",
            "            <img src=\"http://books.toscrape.com/media/cache/c0/59/c05972805aa7201171b8fc71a5b00292.jpg\" alt=\"The Past Never Ends\" style=\"width: 100%; height: auto; border-radius: 5px;\">\n",
            "            <p><strong>The Past Never Ends</strong></p>\n",
            "            <p style=\"color: green;\">£56.50</p>\n",
            "            <p style=\"color: green;\">✔ In stock</p>\n",
            "            <button style=\"background-color: blue; color: white; border: none; padding: 10px 15px; border-radius: 5px; cursor: pointer;\">Add to basket</button>\n",
            "        </div>\n",
            "\n",
            "        <div style=\"text-align: center; width: 200px; border: 1px solid #ddd; padding: 10px; border-radius: 5px;\">\n",
            "            <img src=\"http://books.toscrape.com/media/cache/97/27/97275841c81e66d53bf9313cba06f23e.jpg\" alt=\"A Murder in Time\" style=\"width: 100%; height: auto; border-radius: 5px;\">\n",
            "            <p><strong>A Murder in Time</strong></p>\n",
            "            <p style=\"color: green;\">£16.64</p>\n",
            "            <p style=\"color: green;\"> Out stock</p>\n",
            "            <button style=\"background-color: blue; color: white; border: none; padding: 10px 15px; border-radius: 5px; cursor: pointer;\">Add to basket</button>\n",
            "        </div>\n",
            "    </div>\n",
            "\n",
            "    \n",
            "\n",
            "    <h2>Featured Products</h2>\n",
            "    <div class=\"products\">\n",
            "        <div class=\"product-card\" data-id=\"101\">\n",
            "            <img src=\"https://via.placeholder.com/250x150?text=Product+1\" alt=\"Wireless Headphones\">\n",
            "            <p class=\"name\">Wireless Headphones</p>\n",
            "            <p class=\"price\" style=\"display: none;\">$49.99</p>\n",
            "            <p class=\"colors\">Available colors: Black, White, Blue</p>\n",
            "            <button>Add to Basket</button>\n",
            "        </div>\n",
            "        <div class=\"product-card\" data-id=\"102\">\n",
            "            <img src=\"https://via.placeholder.com/250x150?text=Product+2\" alt=\"Smart Speaker\">\n",
            "            <p class=\"name\">Smart Speaker</p>\n",
            "            <p class=\"price\" style=\"display: none;\">$89.99</p>\n",
            "            <p class=\"colors\">Available colors: Grey, Black</p>\n",
            "            <button>Add to Basket</button>\n",
            "        </div>\n",
            "        <div class=\"product-card\" data-id=\"103\">\n",
            "            <img src=\"https://via.placeholder.com/250x150?text=Product+3\" alt=\"Smart Watch\">\n",
            "            <p class=\"name\">Smart Watch</p>\n",
            "            <p class=\"price\" style=\"display: none;\">$149.99</p>\n",
            "            <p class=\"colors\">Available colors: Black, Silver, Gold</p>\n",
            "            <button>Add to Basket</button>\n",
            "        </div>\n",
            "    </div>\n",
            "\n",
            "    <div class=\"footer\">\n",
            "            <p>&copy; 2024 Web Scraping Practice. All Rights Reserved.</p>\n",
            "        </div>\n",
            "    </body>\n",
            "</html>\n",
            "\n"
          ]
        }
      ]
    },
    {
      "cell_type": "code",
      "source": [
        "soup = BeautifulSoup(response.text, 'html.parser')"
      ],
      "metadata": {
        "id": "6Gx48WXfZOTF"
      },
      "execution_count": 4,
      "outputs": []
    },
    {
      "cell_type": "markdown",
      "source": [
        "## Parsing"
      ],
      "metadata": {
        "id": "3lhpTBYlZ0R1"
      }
    },
    {
      "cell_type": "markdown",
      "source": [
        "### Extracting Text data"
      ],
      "metadata": {
        "id": "ZmFiThzyaDFN"
      }
    },
    {
      "cell_type": "markdown",
      "source": [
        "#### Headers"
      ],
      "metadata": {
        "id": "Mas4qPctZ9E1"
      }
    },
    {
      "cell_type": "code",
      "source": [
        "header_tags = ['h1', 'h2', 'h3', 'h4', 'h5', 'h6']"
      ],
      "metadata": {
        "id": "vSNbKJWZbGv1"
      },
      "execution_count": 5,
      "outputs": []
    },
    {
      "cell_type": "code",
      "source": [
        "headers = soup.find_all(header_tags)"
      ],
      "metadata": {
        "id": "ThCq7caQZvXX"
      },
      "execution_count": 6,
      "outputs": []
    },
    {
      "cell_type": "code",
      "source": [
        "headers"
      ],
      "metadata": {
        "colab": {
          "base_uri": "https://localhost:8080/"
        },
        "id": "HAHYwjR2aCrt",
        "outputId": "bfa00af2-1616-49fe-c479-d1c80815001d"
      },
      "execution_count": 7,
      "outputs": [
        {
          "output_type": "execute_result",
          "data": {
            "text/plain": [
              "[<h1>Web Scraping Practice</h1>,\n",
              " <h2>Available Products</h2>,\n",
              " <h2>Product Table</h2>,\n",
              " <h2>Watch This Video</h2>,\n",
              " <h2>Contact Us</h2>,\n",
              " <h2>Product Information</h2>,\n",
              " <h2>Featured Products</h2>]"
            ]
          },
          "metadata": {},
          "execution_count": 7
        }
      ]
    },
    {
      "cell_type": "code",
      "source": [
        "headerList = []\n",
        "for header in headers:\n",
        "  headerList.append(header.get_text())"
      ],
      "metadata": {
        "id": "ZCGI0wQZaYcm"
      },
      "execution_count": 8,
      "outputs": []
    },
    {
      "cell_type": "markdown",
      "source": [
        "#### List Items"
      ],
      "metadata": {
        "id": "gUeDLlUObYEV"
      }
    },
    {
      "cell_type": "code",
      "source": [
        "lists = soup.find_all('ul')\n",
        "lists"
      ],
      "metadata": {
        "colab": {
          "base_uri": "https://localhost:8080/"
        },
        "id": "4VFOCLXTavKd",
        "outputId": "db7f1904-09da-486f-ee8e-620f694b0070"
      },
      "execution_count": 9,
      "outputs": [
        {
          "output_type": "execute_result",
          "data": {
            "text/plain": [
              "[<ul>\n",
              " <li class=\"highlight\">Laptop</li>\n",
              " <li>Smartphone</li>\n",
              " <li>Tablet</li>\n",
              " <li>Smartwatch</li>\n",
              " </ul>]"
            ]
          },
          "metadata": {},
          "execution_count": 9
        }
      ]
    },
    {
      "cell_type": "code",
      "source": [
        "listItems =lists[0].find_all('li')\n",
        "listItems"
      ],
      "metadata": {
        "colab": {
          "base_uri": "https://localhost:8080/"
        },
        "id": "cusACg3dbkK0",
        "outputId": "79d66a7b-a221-42bf-8763-430da7fbea52"
      },
      "execution_count": 10,
      "outputs": [
        {
          "output_type": "execute_result",
          "data": {
            "text/plain": [
              "[<li class=\"highlight\">Laptop</li>,\n",
              " <li>Smartphone</li>,\n",
              " <li>Tablet</li>,\n",
              " <li>Smartwatch</li>]"
            ]
          },
          "metadata": {},
          "execution_count": 10
        }
      ]
    },
    {
      "cell_type": "code",
      "source": [
        "itemList = []\n",
        "for item in listItems:\n",
        "  itemList.append(item.get_text())"
      ],
      "metadata": {
        "id": "I3qcTmXvcCqm"
      },
      "execution_count": 11,
      "outputs": []
    },
    {
      "cell_type": "markdown",
      "source": [
        "#### Paragraphs"
      ],
      "metadata": {
        "id": "Evuoarmnc0-V"
      }
    },
    {
      "cell_type": "code",
      "source": [
        "paragraphs = soup.find_all(['p','li'])\n",
        "paragraphs"
      ],
      "metadata": {
        "colab": {
          "base_uri": "https://localhost:8080/"
        },
        "id": "6ufMtmn1c6Yd",
        "outputId": "ae2e2ff9-bdcb-431a-c206-728e4a756099"
      },
      "execution_count": 12,
      "outputs": [
        {
          "output_type": "execute_result",
          "data": {
            "text/plain": [
              "[<p>Welcome to the web scraping task! Use your skills to extract the required data from this page.</p>,\n",
              " <li class=\"highlight\">Laptop</li>,\n",
              " <li>Smartphone</li>,\n",
              " <li>Tablet</li>,\n",
              " <li>Smartwatch</li>,\n",
              " <p><strong>Sharp Objects</strong></p>,\n",
              " <p style=\"color: green;\">£47.82</p>,\n",
              " <p style=\"color: green;\">✔ In stock</p>,\n",
              " <p><strong>In a Dark, Dark Wood</strong></p>,\n",
              " <p style=\"color: green;\">£19.63</p>,\n",
              " <p style=\"color: green;\">✔ In stock</p>,\n",
              " <p><strong>The Past Never Ends</strong></p>,\n",
              " <p style=\"color: green;\">£56.50</p>,\n",
              " <p style=\"color: green;\">✔ In stock</p>,\n",
              " <p><strong>A Murder in Time</strong></p>,\n",
              " <p style=\"color: green;\">£16.64</p>,\n",
              " <p style=\"color: green;\"> Out stock</p>,\n",
              " <p class=\"name\">Wireless Headphones</p>,\n",
              " <p class=\"price\" style=\"display: none;\">$49.99</p>,\n",
              " <p class=\"colors\">Available colors: Black, White, Blue</p>,\n",
              " <p class=\"name\">Smart Speaker</p>,\n",
              " <p class=\"price\" style=\"display: none;\">$89.99</p>,\n",
              " <p class=\"colors\">Available colors: Grey, Black</p>,\n",
              " <p class=\"name\">Smart Watch</p>,\n",
              " <p class=\"price\" style=\"display: none;\">$149.99</p>,\n",
              " <p class=\"colors\">Available colors: Black, Silver, Gold</p>,\n",
              " <p>© 2024 Web Scraping Practice. All Rights Reserved.</p>]"
            ]
          },
          "metadata": {},
          "execution_count": 12
        }
      ]
    },
    {
      "cell_type": "code",
      "source": [
        "paragraphList = []\n",
        "for paragraph in paragraphs:\n",
        "  paragraphList.append(paragraph.get_text())\n",
        "paragraphList"
      ],
      "metadata": {
        "id": "lW0Qd4Lxc-Gu",
        "colab": {
          "base_uri": "https://localhost:8080/"
        },
        "outputId": "fbed4d5b-9fd0-4276-9d08-17d3d348e75d"
      },
      "execution_count": 13,
      "outputs": [
        {
          "output_type": "execute_result",
          "data": {
            "text/plain": [
              "['Welcome to the web scraping task! Use your skills to extract the required data from this page.',\n",
              " 'Laptop',\n",
              " 'Smartphone',\n",
              " 'Tablet',\n",
              " 'Smartwatch',\n",
              " 'Sharp Objects',\n",
              " '£47.82',\n",
              " '✔ In stock',\n",
              " 'In a Dark, Dark Wood',\n",
              " '£19.63',\n",
              " '✔ In stock',\n",
              " 'The Past Never Ends',\n",
              " '£56.50',\n",
              " '✔ In stock',\n",
              " 'A Murder in Time',\n",
              " '£16.64',\n",
              " ' Out stock',\n",
              " 'Wireless Headphones',\n",
              " '$49.99',\n",
              " 'Available colors: Black, White, Blue',\n",
              " 'Smart Speaker',\n",
              " '$89.99',\n",
              " 'Available colors: Grey, Black',\n",
              " 'Smart Watch',\n",
              " '$149.99',\n",
              " 'Available colors: Black, Silver, Gold',\n",
              " '© 2024 Web Scraping Practice. All Rights Reserved.']"
            ]
          },
          "metadata": {},
          "execution_count": 13
        }
      ]
    },
    {
      "cell_type": "markdown",
      "source": [
        "### Extracting Table Data"
      ],
      "metadata": {
        "id": "FaCdh1mNdbol"
      }
    },
    {
      "cell_type": "code",
      "source": [
        "table = soup.find('table')\n",
        "table"
      ],
      "metadata": {
        "colab": {
          "base_uri": "https://localhost:8080/"
        },
        "id": "9PzrU5a8dgcV",
        "outputId": "4b8463c2-4c63-4735-fac6-d7c15ec59953"
      },
      "execution_count": 14,
      "outputs": [
        {
          "output_type": "execute_result",
          "data": {
            "text/plain": [
              "<table>\n",
              "<tr>\n",
              "<th>Product</th>\n",
              "<th>Price</th>\n",
              "<th>In Stock</th>\n",
              "</tr>\n",
              "<tr>\n",
              "<td>Laptop</td>\n",
              "<td>$1000</td>\n",
              "<td>Yes</td>\n",
              "</tr>\n",
              "<tr>\n",
              "<td>Smartphone</td>\n",
              "<td>$800</td>\n",
              "<td>No</td>\n",
              "</tr>\n",
              "<tr>\n",
              "<td>Tablet</td>\n",
              "<td>$500</td>\n",
              "<td>Yes</td>\n",
              "</tr>\n",
              "</table>"
            ]
          },
          "metadata": {},
          "execution_count": 14
        }
      ]
    },
    {
      "cell_type": "code",
      "source": [
        "rows = table.find_all('tr')\n",
        "rows"
      ],
      "metadata": {
        "colab": {
          "base_uri": "https://localhost:8080/"
        },
        "id": "gRCDg_IkdrkN",
        "outputId": "dabf0627-9808-46bb-e31b-9b1d8b261ae5"
      },
      "execution_count": 15,
      "outputs": [
        {
          "output_type": "execute_result",
          "data": {
            "text/plain": [
              "[<tr>\n",
              " <th>Product</th>\n",
              " <th>Price</th>\n",
              " <th>In Stock</th>\n",
              " </tr>,\n",
              " <tr>\n",
              " <td>Laptop</td>\n",
              " <td>$1000</td>\n",
              " <td>Yes</td>\n",
              " </tr>,\n",
              " <tr>\n",
              " <td>Smartphone</td>\n",
              " <td>$800</td>\n",
              " <td>No</td>\n",
              " </tr>,\n",
              " <tr>\n",
              " <td>Tablet</td>\n",
              " <td>$500</td>\n",
              " <td>Yes</td>\n",
              " </tr>]"
            ]
          },
          "metadata": {},
          "execution_count": 15
        }
      ]
    },
    {
      "cell_type": "code",
      "source": [
        "rowList = []"
      ],
      "metadata": {
        "id": "mT7FjH38d2DO"
      },
      "execution_count": 16,
      "outputs": []
    },
    {
      "cell_type": "code",
      "source": [
        "rows[0].find_all('th')"
      ],
      "metadata": {
        "colab": {
          "base_uri": "https://localhost:8080/"
        },
        "id": "y58D7z-UdwR0",
        "outputId": "7496a7b1-af3d-4973-90d5-ca94d2d4c774"
      },
      "execution_count": 17,
      "outputs": [
        {
          "output_type": "execute_result",
          "data": {
            "text/plain": [
              "[<th>Product</th>, <th>Price</th>, <th>In Stock</th>]"
            ]
          },
          "metadata": {},
          "execution_count": 17
        }
      ]
    },
    {
      "cell_type": "code",
      "source": [
        "for i, row in enumerate(rows):\n",
        "  text = row.getText().removeprefix('\\n').removesuffix('\\n').replace('\\n', ',')\n",
        "  arrOfText = text.split(',')\n",
        "  rowList.append(arrOfText)"
      ],
      "metadata": {
        "id": "gaq4zSVDd7XE"
      },
      "execution_count": 18,
      "outputs": []
    },
    {
      "cell_type": "code",
      "source": [
        "rowList"
      ],
      "metadata": {
        "colab": {
          "base_uri": "https://localhost:8080/"
        },
        "id": "xN5EEUhFeRUk",
        "outputId": "a515bd6e-1dcd-46d7-ac2d-4c504a61032f"
      },
      "execution_count": 19,
      "outputs": [
        {
          "output_type": "execute_result",
          "data": {
            "text/plain": [
              "[['Product', 'Price', 'In Stock'],\n",
              " ['Laptop', '$1000', 'Yes'],\n",
              " ['Smartphone', '$800', 'No'],\n",
              " ['Tablet', '$500', 'Yes']]"
            ]
          },
          "metadata": {},
          "execution_count": 19
        }
      ]
    },
    {
      "cell_type": "markdown",
      "source": [
        "### Extract Product Information"
      ],
      "metadata": {
        "id": "bZP7Xtp26yuv"
      }
    },
    {
      "cell_type": "code",
      "source": [
        "productsDiv = soup.find_all('div', attrs={'class': 'book-products'})"
      ],
      "metadata": {
        "id": "t_NwL2wAxR0H"
      },
      "execution_count": 20,
      "outputs": []
    },
    {
      "cell_type": "code",
      "source": [
        "products = productsDiv[0].find_all('div')\n",
        "productsList = []\n",
        "\n",
        "for product in products:\n",
        "  productParagraphs = product.find_all('p')\n",
        "  productTitle = productParagraphs[0].get_text()\n",
        "  productPrice = productParagraphs[1].get_text()\n",
        "  productStock = productParagraphs[2].get_text()\n",
        "  productButton = product.find('button').get_text()\n",
        "  productDic = {\n",
        "      'title': productTitle,\n",
        "      'price': productPrice,\n",
        "      'stock': productStock,\n",
        "      'button': productButton\n",
        "  }\n",
        "  productsList.append(productDic)\n",
        "\n",
        "print(productsList)"
      ],
      "metadata": {
        "colab": {
          "base_uri": "https://localhost:8080/"
        },
        "id": "ZlXqzHThyuyw",
        "outputId": "89a5ea4a-ca7a-443a-fd3d-24518b705feb"
      },
      "execution_count": 21,
      "outputs": [
        {
          "output_type": "stream",
          "name": "stdout",
          "text": [
            "[{'title': 'Sharp Objects', 'price': '£47.82', 'stock': '✔ In stock', 'button': 'Add to basket'}, {'title': 'In a Dark, Dark Wood', 'price': '£19.63', 'stock': '✔ In stock', 'button': 'Add to basket'}, {'title': 'The Past Never Ends', 'price': '£56.50', 'stock': '✔ In stock', 'button': 'Add to basket'}, {'title': 'A Murder in Time', 'price': '£16.64', 'stock': ' Out stock', 'button': 'Add to basket'}]\n"
          ]
        }
      ]
    },
    {
      "cell_type": "markdown",
      "source": [
        "### Extract Form Details"
      ],
      "metadata": {
        "id": "6iRMBFI36412"
      }
    },
    {
      "cell_type": "code",
      "source": [
        "form = soup.find('form')\n",
        "inputs = form.find_all('input')\n",
        "inputsList = []\n",
        "for input in inputs:\n",
        "  inputDic={\n",
        "      'name': input.attrs.get('name'),\n",
        "      'type': input.attrs.get('type'),\n",
        "      'value': input.attrs.get('value'),\n",
        "      'placeholder': input.attrs.get('placeholder')\n",
        "\n",
        "  }\n",
        "  # remove keys with null values\n",
        "  inputDic = {k: v for k, v in inputDic.items() if v is not None}\n",
        "  inputsList.append(inputDic)\n",
        "print(inputsList)"
      ],
      "metadata": {
        "colab": {
          "base_uri": "https://localhost:8080/"
        },
        "id": "DGBuoecZ0Qtv",
        "outputId": "ca6e2b5c-6df3-47ec-a7a9-b4c8c3ac3388"
      },
      "execution_count": 22,
      "outputs": [
        {
          "output_type": "stream",
          "name": "stdout",
          "text": [
            "[{'name': 'username', 'type': 'text', 'placeholder': 'Enter your username'}, {'name': 'password', 'type': 'password', 'placeholder': 'Enter your password'}, {'name': 'terms', 'type': 'checkbox'}, {'type': 'submit', 'value': 'Submit'}]\n"
          ]
        }
      ]
    },
    {
      "cell_type": "markdown",
      "source": [
        "### Extract Links"
      ],
      "metadata": {
        "id": "nCkgQ99I8u59"
      }
    },
    {
      "cell_type": "code",
      "source": [
        "iframe = soup.find('iframe')\n",
        "iframeDic = {'iframe': iframe.attrs.get('src')}\n",
        "\n",
        "iframeList=[]\n",
        "iframeList.append(iframeDic)"
      ],
      "metadata": {
        "id": "Geh1WDCH-GMV"
      },
      "execution_count": 50,
      "outputs": []
    },
    {
      "cell_type": "code",
      "source": [
        "images = soup.find_all('img')\n",
        "\n",
        "imageList = []\n",
        "for image in images:\n",
        "  imageAlt = image.attrs.get('alt')\n",
        "  imagelinks = image.attrs.get('src')\n",
        "  imageDic = {\n",
        "      'alt': imageAlt,\n",
        "      'link': imagelinks\n",
        "  }\n",
        "\n",
        "  imageList.append(imageDic)"
      ],
      "metadata": {
        "id": "fMeYqSgu8ui2"
      },
      "execution_count": 51,
      "outputs": []
    },
    {
      "cell_type": "markdown",
      "source": [
        "### Extract Featured Products"
      ],
      "metadata": {
        "id": "-4nED2a6N0sK"
      }
    },
    {
      "cell_type": "code",
      "source": [
        "featprodsDiv = soup.find_all('div', attrs={'class': 'products'})"
      ],
      "metadata": {
        "id": "LSv4H6Hvy27_"
      },
      "execution_count": 25,
      "outputs": []
    },
    {
      "cell_type": "code",
      "source": [
        "featprods = featprodsDiv[0].find_all('div',attrs={'class': 'product-card'})"
      ],
      "metadata": {
        "id": "rX-3G2aPy20f"
      },
      "execution_count": 26,
      "outputs": []
    },
    {
      "cell_type": "code",
      "source": [
        "featprodsList = []\n",
        "\n",
        "for featprod in featprods:\n",
        "  featid = featprod.attrs.get('data-id')\n",
        "  featName= featprod.find('p',attrs={'class': 'name'}).get_text()\n",
        "  featPrice= featprod.find('p',attrs={'class': 'price','style':'display: none;'}).get_text()\n",
        "  featColors = featprod.find('p',attrs={'class': 'colors'}).get_text()\n",
        "  featColors = featColors.replace('Available colors: ', '')\n",
        "  featDic = {\n",
        "      'id': featid,\n",
        "      'name': featName,\n",
        "      'price': featPrice,\n",
        "      'colors': featColors\n",
        "  }\n",
        "  featprodsList.append(featDic)\n",
        "\n",
        "print(featprodsList)\n"
      ],
      "metadata": {
        "colab": {
          "base_uri": "https://localhost:8080/"
        },
        "id": "Behe7ogCQlnh",
        "outputId": "d61d7dd8-05e2-4fa3-b430-ac9ee85f522c"
      },
      "execution_count": 27,
      "outputs": [
        {
          "output_type": "stream",
          "name": "stdout",
          "text": [
            "[{'id': '101', 'name': 'Wireless Headphones', 'price': '$49.99', 'colors': 'Black, White, Blue'}, {'id': '102', 'name': 'Smart Speaker', 'price': '$89.99', 'colors': 'Grey, Black'}, {'id': '103', 'name': 'Smart Watch', 'price': '$149.99', 'colors': 'Black, Silver, Gold'}]\n"
          ]
        }
      ]
    },
    {
      "cell_type": "markdown",
      "source": [
        "## Export All Data"
      ],
      "metadata": {
        "id": "_ZzLxaTjR_lJ"
      }
    },
    {
      "cell_type": "markdown",
      "source": [
        "### Extract Text Data"
      ],
      "metadata": {
        "id": "DbCt6h1Xc5Jq"
      }
    },
    {
      "cell_type": "code",
      "source": [
        "header = ['Type', 'Content']\n",
        "df = pd.DataFrame(header).transpose()\n",
        "headerIndex = pd.Series(['Heading' for i in range(len(headerList))])"
      ],
      "metadata": {
        "id": "Fs8wAufbWPza"
      },
      "execution_count": 28,
      "outputs": []
    },
    {
      "cell_type": "code",
      "source": [
        "header = df.iloc[0]\n",
        "df = df[1:]\n",
        "df.columns = header"
      ],
      "metadata": {
        "id": "I5hNE_qWYjS6"
      },
      "execution_count": 29,
      "outputs": []
    },
    {
      "cell_type": "code",
      "source": [
        "df['Type'] = headerIndex\n",
        "df['Content'] = headerList"
      ],
      "metadata": {
        "id": "auTa0QQ5YyZJ"
      },
      "execution_count": 30,
      "outputs": []
    },
    {
      "cell_type": "code",
      "source": [
        "paragraphIndex = pd.Series(['Paragraph' for i in range(len(paragraphList))],name = \"Type\")\n",
        "paragraphSeries = pd.Series(paragraphList,name='Content')\n",
        "pdf = pd.concat([paragraphIndex, paragraphSeries],axis=1)\n",
        "df = pd.concat([df, pdf],axis=0)"
      ],
      "metadata": {
        "id": "obDFZXRXZVzT"
      },
      "execution_count": 31,
      "outputs": []
    },
    {
      "cell_type": "code",
      "source": [
        "listIndex = pd.Series(['List Item' for i in range(len(listItems))],name='Type')\n",
        "listSeries = pd.Series(itemList,name='Content')\n",
        "p = pd.concat([listIndex, listSeries],axis=1)\n",
        "df = pd.concat([df, p],axis=0)"
      ],
      "metadata": {
        "id": "caTmDgCDb4ec"
      },
      "execution_count": 32,
      "outputs": []
    },
    {
      "cell_type": "code",
      "source": [
        "df = df.reset_index(drop=True)\n",
        "df.to_csv('Extract_Text_Data.CSV', index=False)"
      ],
      "metadata": {
        "id": "o0GYrJOkcHUC"
      },
      "execution_count": 33,
      "outputs": []
    },
    {
      "cell_type": "markdown",
      "source": [
        "### Extract Table Data"
      ],
      "metadata": {
        "id": "Bg_V6AcWkLDU"
      }
    },
    {
      "cell_type": "code",
      "source": [
        "df = pd.DataFrame(rowList)"
      ],
      "metadata": {
        "id": "yIv7y9budBQ7"
      },
      "execution_count": 64,
      "outputs": []
    },
    {
      "cell_type": "code",
      "source": [
        "header = df.iloc[0]\n",
        "df = df[1:]\n",
        "df.columns = header"
      ],
      "metadata": {
        "id": "lcAWI74RdF5r"
      },
      "execution_count": 65,
      "outputs": []
    },
    {
      "cell_type": "code",
      "source": [
        "df.to_csv('Extract_Table_Data.CSV', index=False)"
      ],
      "metadata": {
        "id": "JLKhNl-gdMUC"
      },
      "execution_count": 66,
      "outputs": []
    },
    {
      "cell_type": "markdown",
      "source": [
        "### Extract JSON Files"
      ],
      "metadata": {
        "id": "itN4GZUjkYmk"
      }
    },
    {
      "cell_type": "code",
      "source": [
        "with open('Product_Information.json', 'w') as file:\n",
        "  json.dump(productsList,file)"
      ],
      "metadata": {
        "id": "6Riu5iIpdTy7"
      },
      "execution_count": 69,
      "outputs": []
    },
    {
      "cell_type": "code",
      "source": [
        "with open('Form_Information.json', 'w') as file:\n",
        "  json.dump(inputsList, file)"
      ],
      "metadata": {
        "id": "PRnJ_xbIhfqE"
      },
      "execution_count": 67,
      "outputs": []
    },
    {
      "cell_type": "code",
      "source": [
        "iframeList.append(imageList)\n",
        "with open('Links_Multimedia_Information.json', 'w') as file:\n",
        "  json.dump(iframeList, file)"
      ],
      "metadata": {
        "id": "unTAsSufhvXU"
      },
      "execution_count": 68,
      "outputs": []
    }
  ]
}